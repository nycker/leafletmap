{
  "metadata": {
    "language_info": {
      "codemirror_mode": {
        "name": "python",
        "version": 3
      },
      "file_extension": ".py",
      "mimetype": "text/x-python",
      "name": "python",
      "nbconvert_exporter": "python",
      "pygments_lexer": "ipython3",
      "version": "3.8"
    },
    "kernelspec": {
      "name": "python",
      "display_name": "Python (Pyodide)",
      "language": "python"
    }
  },
  "nbformat_minor": 4,
  "nbformat": 4,
  "cells": [
    {
      "cell_type": "code",
      "source": "import piplite\nawait piplite.install('ipyleaflet')\nawait piplite.install('pandas')",
      "metadata": {
        "trusted": true
      },
      "execution_count": 15,
      "outputs": []
    },
    {
      "cell_type": "code",
      "source": "from ipyleaflet import Map, basemaps, Marker,Polyline, FullScreenControl\nfrom ipywidgets import Layout\nfrom IPython.display import display\nimport pandas as pd",
      "metadata": {
        "trusted": true
      },
      "execution_count": 31,
      "outputs": []
    },
    {
      "cell_type": "code",
      "source": "# Create a pandas DataFrame with latitude and longitude columns\ndata = {\n    'latitude': [40.7128, 34.0522, 51.5074],\n    'longitude': [-74.0060, -118.2437, -0.1278]\n}\ndf = pd.DataFrame(data)\n\n# Create an ipyleaflet map\nm = Map(center=(0, 0), zoom=2, layout=Layout(width='800px', height='600px'))\n\n# Create an empty list to store marker objects\nmarkers = []\n\n# Iterate over the DataFrame rows and add markers to the map\nfor _, row in df.iterrows():\n    marker = Marker(location=(row['latitude'], row['longitude']))\n    markers.append(marker)\n    m.add_layer(marker)\n\n# Calculate the bounds manually\nmin_lat = min(df['latitude'])\nmin_lon = min(df['longitude'])\nmax_lat = max(df['latitude'])\nmax_lon = max(df['longitude'])\nbounds = [(min_lat, min_lon), (max_lat, max_lon)]\n\n# Fit the map bounds to the calculated bounds\nm.fit_bounds(bounds)\n\n# Add a FullScreenControl for better visibility\nm.add_control(FullScreenControl())\n\n# Display the map\ndisplay(m)",
      "metadata": {
        "trusted": true
      },
      "execution_count": 33,
      "outputs": [
        {
          "output_type": "display_data",
          "data": {
            "text/plain": "Map(center=[0, 0], controls=(ZoomControl(options=['position', 'zoom_in_text', 'zoom_in_title', 'zoom_out_text'…",
            "application/vnd.jupyter.widget-view+json": {
              "version_major": 2,
              "version_minor": 0,
              "model_id": "7b1c8262f69a4ec88df05d7d1726f81e"
            }
          },
          "metadata": {}
        }
      ]
    },
    {
      "cell_type": "code",
      "source": "# Create a list of coordinates for the line\ncoordinates = [(40.7128, -74.0060), (34.0522, -118.2437), (51.5074, -0.1278)]\n\n# Create an ipyleaflet map\nm = Map(center=(0, 0), zoom=2, layout=Layout(width='800px', height='600px'))\n\n# Create a polyline with the coordinates\nline = Polyline(locations=coordinates, color=\"red\", fill=False)\n\n# Add the polyline to the map\nm.add_layer(line)\n\n# Calculate the bounds manually\nmin_lat = min([lat for lat, lon in coordinates])\nmin_lon = min([lon for lat, lon in coordinates])\nmax_lat = max([lat for lat, lon in coordinates])\nmax_lon = max([lon for lat, lon in coordinates])\nbounds = [(min_lat, min_lon), (max_lat, max_lon)]\n\n# Fit the map bounds to the calculated bounds\nm.fit_bounds(bounds)\n\n# Add a FullScreenControl for better visibility\nm.add_control(FullScreenControl())\n\n# Display the map\ndisplay(m)",
      "metadata": {
        "trusted": true
      },
      "execution_count": 35,
      "outputs": [
        {
          "output_type": "display_data",
          "data": {
            "text/plain": "Map(center=[0, 0], controls=(ZoomControl(options=['position', 'zoom_in_text', 'zoom_in_title', 'zoom_out_text'…",
            "application/vnd.jupyter.widget-view+json": {
              "version_major": 2,
              "version_minor": 0,
              "model_id": "02620d4d9e4b401aa9e5a9d4c4354f07"
            }
          },
          "metadata": {}
        }
      ]
    },
    {
      "cell_type": "code",
      "source": "# Create a pandas DataFrame with the coordinates\ndf = pd.DataFrame(coordinates, columns=['latitude', 'longitude'])\n\n# Save the DataFrame to a CSV file\ndf.to_csv('coordinates.csv', index=False)",
      "metadata": {
        "trusted": true
      },
      "execution_count": 36,
      "outputs": []
    },
    {
      "cell_type": "code",
      "source": "# Read the coordinates from the CSV file\ndf_read = pd.read_csv('coordinates.csv')\n\n# Extract the latitude and longitude columns from the DataFrame\ncoordinates = df_read[['latitude', 'longitude']].values.tolist()\n# Create an ipyleaflet map\nm = Map(center=(0, 0), zoom=2, layout=Layout(width='800px', height='600px'))\n\n# Create a polyline with the coordinates\nline = Polyline(locations=coordinates, color=\"red\", fill=False)\n\n# Add the polyline to the map\nm.add_layer(line)\n\n# Calculate the bounds manually\nmin_lat = min([lat for lat, lon in coordinates])\nmin_lon = min([lon for lat, lon in coordinates])\nmax_lat = max([lat for lat, lon in coordinates])\nmax_lon = max([lon for lat, lon in coordinates])\nbounds = [(min_lat, min_lon), (max_lat, max_lon)]\n\n# Fit the map bounds to the calculated bounds\nm.fit_bounds(bounds)\n\n# Add a FullScreenControl for better visibility\nm.add_control(FullScreenControl())\n\n# Display the map\ndisplay(m)",
      "metadata": {
        "trusted": true
      },
      "execution_count": 38,
      "outputs": [
        {
          "output_type": "display_data",
          "data": {
            "text/plain": "Map(center=[0, 0], controls=(ZoomControl(options=['position', 'zoom_in_text', 'zoom_in_title', 'zoom_out_text'…",
            "application/vnd.jupyter.widget-view+json": {
              "version_major": 2,
              "version_minor": 0,
              "model_id": "27ab1eb8df8041ecad0d60349852e069"
            }
          },
          "metadata": {}
        }
      ]
    },
    {
      "cell_type": "code",
      "source": "",
      "metadata": {},
      "execution_count": null,
      "outputs": []
    }
  ]
}